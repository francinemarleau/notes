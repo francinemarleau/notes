{
 "cells": [
  {
   "cell_type": "markdown",
   "metadata": {},
   "source": [
    "# Version control"
   ]
  },
  {
   "cell_type": "markdown",
   "metadata": {},
   "source": [
    "In a project, either software or documentation/science writing, version control software helps to keeps some order. This is especially important for collaboration involving several people. But can be also vital for personal projects.\n",
    "Keeping track of changes in a text or a software is important in research and development.\n",
    "Being able to go back to a functioning version of software after doing some bad changes to a code, or recovering results obtained before submitting a paper can be tricky without using a version control software.\n",
    "\n",
    "\n",
    "For this reason, it is a very good idea to learn and immediately apply to your research projects the basics of version control. Especially when you can save remotely your work so that it can be accessed from everywhere and everybody in your collaboration. Also, a remote backup can save you from unexpected crashes of your local computer."
   ]
  },
  {
   "cell_type": "markdown",
   "metadata": {},
   "source": [
    "## There are two main purposes of version control:"
   ]
  },
  {
   "cell_type": "markdown",
   "metadata": {},
   "source": [
    "1. Keep track of changes in the source code.\n",
    "    * Allow reverting back to an older revision if something goes wrong.\n",
    "    * Work on several \"branches\" of the software concurrently.\n",
    "    * Tags revisions to keep track of which version of the software that was used for what (for example, \"release-1.0\", \"paper-A-final\", ...)\n",
    "2. Make it possible for serveral people to collaboratively work on the same code base simultaneously.\n",
    "    * Allow many authors to make changes to the code.\n",
    "    * Clearly communicating and visualizing changes in the code base to everyone involved."
   ]
  },
  {
   "cell_type": "markdown",
   "metadata": {},
   "source": [
    "## Basic principles and terminology "
   ]
  },
  {
   "cell_type": "markdown",
   "metadata": {},
   "source": [
    "In version control, the source code or digital content is stored in a **repository**. \n",
    "\n",
    "* The repository does not only contain the latest version of all files, but the complete history of all changes to the files since they were added to the repository. \n",
    "\n",
    "* A user can **checkout** the repository, and obtain a local working copy of the files. All changes are made to the files in the local working directory, where files can be added, removed and updated. \n",
    "\n",
    "* When a task has been completed, the changes to the local files are **commited** (saved to the repository).\n",
    "\n",
    "* If someone else has been making changes to the same files, a **conflict** can occur. In many cases conflicts can be **resolved** automatically by the system, but in some cases we might manually have to **merge** different changes together.\n",
    "\n",
    "* It is often useful to create a new **branch** in a repository, or a **fork** or **clone** of an entire repository, when we doing larger experimental development. The main branch in a repository is called often **master**. When work on a branch or fork is completed, it can be merged in to the master branch/repository.\n",
    "\n",
    "* With distributed version control softwares such as GIT, we can **pull** and **push** changesets between different repositories. For example, between a local copy of there repository to a central online repository (for example on a community repository host site like github.com)."
   ]
  },
  {
   "cell_type": "markdown",
   "metadata": {},
   "source": [
    "### Some good software"
   ]
  },
  {
   "cell_type": "markdown",
   "metadata": {},
   "source": [
    "1. GIT (`git`) : http://git-scm.com/\n",
    "2. Mercurial (`hg`) : http://mercurial.selenic.com/\n",
    "\n",
    "In the rest of this lecture we will look at `git`, although `hg` is just as good and work in almost exactly the same way."
   ]
  },
  {
   "cell_type": "markdown",
   "metadata": {},
   "source": [
    "## Installing git"
   ]
  },
  {
   "cell_type": "markdown",
   "metadata": {},
   "source": [
    "On Linux:\n",
    "    \n",
    "    $ sudo apt-get install git\n",
    "\n",
    "On Mac (with macports):\n",
    "\n",
    "    $ sudo port install git\n"
   ]
  },
  {
   "cell_type": "markdown",
   "metadata": {},
   "source": [
    "## Configuring the installation\n",
    "\n",
    "The first time you start to use git, you'll need to configure your author information:\n",
    "\n",
    "\n",
    "```bash\n",
    "git config --global user.name \"your name\"\n",
    "git config --global user.email \"your email\"\n",
    "git config --global color.ui \"auto\"\n",
    "git config --global core.editor \"emacs\"\n",
    "```\n",
    "\n",
    "You can change the configurations at any time.\n",
    "\n",
    "As editor, you can use your favorite editor.\n"
   ]
  },
  {
   "cell_type": "code",
   "execution_count": 1,
   "metadata": {},
   "outputs": [
    {
     "name": "stdout",
     "output_type": "stream",
     "text": [
      "user.email=francine.marleau@gmail.com\n",
      "user.name=francinemarleau\n"
     ]
    }
   ],
   "source": [
    "%%%bash\n",
    "git config --list"
   ]
  },
  {
   "cell_type": "markdown",
   "metadata": {},
   "source": [
    "## Creating and cloning a repository"
   ]
  },
  {
   "cell_type": "markdown",
   "metadata": {},
   "source": [
    "In this page we will create a repository and work on it to describe the usage of git.\n",
    "\n",
    "To create a brand new empty repository, we can use the command:\n",
    "\n",
    "```python\n",
    "git init repository-name\n",
    "```"
   ]
  },
  {
   "cell_type": "code",
   "execution_count": 3,
   "metadata": {},
   "outputs": [
    {
     "name": "stdout",
     "output_type": "stream",
     "text": [
      "Initialized empty Git repository in /home/marleau/data/uibk/teaching/programming/lecture18/planets/.git/\n"
     ]
    }
   ],
   "source": [
    "%%%bash\n",
    "mkdir planets\n",
    "cd planets\n",
    "git init"
   ]
  },
  {
   "cell_type": "markdown",
   "metadata": {},
   "source": [
    "If we want to fork or clone an existing repository, we can use the command:\n",
    "\n",
    "```python\n",
    "git clone repository\n",
    "```"
   ]
  },
  {
   "cell_type": "markdown",
   "metadata": {},
   "source": [
    "Git clone can take a URL to a public repository, i.e.:\n",
    "```python\n",
    "git clone https://github.com/TheAlgorithms/Python\n",
    "```\n",
    "\n",
    "or a path to a local directory:"
   ]
  },
  {
   "cell_type": "code",
   "execution_count": 4,
   "metadata": {},
   "outputs": [
    {
     "name": "stdout",
     "output_type": "stream",
     "text": [
      "Cloning into 'planets2'...\r\n",
      "warning: You appear to have cloned an empty repository.\r\n",
      "done.\r\n"
     ]
    }
   ],
   "source": [
    "!git clone planets planets2"
   ]
  },
  {
   "cell_type": "markdown",
   "metadata": {},
   "source": [
    "We can also clone private repositories over secure protocols such as SSH:\n",
    "\n",
    "```bash\n",
    "git clone ssh://myserver.com/myrepository\n",
    "```"
   ]
  },
  {
   "cell_type": "markdown",
   "metadata": {},
   "source": [
    "## Status\n",
    "\n",
    "Let's go inside the repository we just created."
   ]
  },
  {
   "cell_type": "code",
   "execution_count": 5,
   "metadata": {},
   "outputs": [],
   "source": [
    "import os\n",
    "os.chdir('planets')"
   ]
  },
  {
   "cell_type": "markdown",
   "metadata": {},
   "source": [
    "Using the command `git status` we get a summary of the current status of the working directory. It shows if we have modified, added or removed files."
   ]
  },
  {
   "cell_type": "code",
   "execution_count": 6,
   "metadata": {},
   "outputs": [
    {
     "name": "stdout",
     "output_type": "stream",
     "text": [
      "On branch master\r\n",
      "\r\n",
      "Initial commit\r\n",
      "\r\n",
      "nothing to commit (create/copy files and use \"git add\" to track)\r\n"
     ]
    }
   ],
   "source": [
    "!git status"
   ]
  },
  {
   "cell_type": "markdown",
   "metadata": {},
   "source": [
    "In this case, the repository is still empty."
   ]
  },
  {
   "cell_type": "markdown",
   "metadata": {},
   "source": [
    "## Adding files and committing changes"
   ]
  },
  {
   "cell_type": "markdown",
   "metadata": {},
   "source": [
    "To add a new file to the repository, we first create the file and then use the `git add filename` command:"
   ]
  },
  {
   "cell_type": "code",
   "execution_count": 7,
   "metadata": {},
   "outputs": [
    {
     "name": "stdout",
     "output_type": "stream",
     "text": [
      "Writing mars.txt\n"
     ]
    }
   ],
   "source": [
    "%%file mars.txt\n",
    "\n",
    "Mars is the 4th planet from the Sun"
   ]
  },
  {
   "cell_type": "code",
   "execution_count": 8,
   "metadata": {},
   "outputs": [
    {
     "name": "stdout",
     "output_type": "stream",
     "text": [
      "On branch master\r\n",
      "\r\n",
      "Initial commit\r\n",
      "\r\n",
      "Untracked files:\r\n",
      "  (use \"git add <file>...\" to include in what will be committed)\r\n",
      "\r\n",
      "\t\u001b[31mmars.txt\u001b[m\r\n",
      "\r\n",
      "nothing added to commit but untracked files present (use \"git add\" to track)\r\n"
     ]
    }
   ],
   "source": [
    "!git status"
   ]
  },
  {
   "cell_type": "markdown",
   "metadata": {},
   "source": [
    "After having added the file mars.txt, the command `git status` list it as an *untracked* file."
   ]
  },
  {
   "cell_type": "code",
   "execution_count": 9,
   "metadata": {},
   "outputs": [],
   "source": [
    "!git add mars.txt"
   ]
  },
  {
   "cell_type": "code",
   "execution_count": 10,
   "metadata": {},
   "outputs": [
    {
     "name": "stdout",
     "output_type": "stream",
     "text": [
      "On branch master\r\n",
      "\r\n",
      "Initial commit\r\n",
      "\r\n",
      "Changes to be committed:\r\n",
      "  (use \"git rm --cached <file>...\" to unstage)\r\n",
      "\r\n",
      "\t\u001b[32mnew file:   mars.txt\u001b[m\r\n",
      "\r\n"
     ]
    }
   ],
   "source": [
    "!git status"
   ]
  },
  {
   "cell_type": "markdown",
   "metadata": {},
   "source": [
    "Now that it has been added, it is listed as a *new file* that has not yet been commited to the repository."
   ]
  },
  {
   "cell_type": "code",
   "execution_count": 11,
   "metadata": {},
   "outputs": [
    {
     "name": "stdout",
     "output_type": "stream",
     "text": [
      "[master (root-commit) 7caf13e] Some notes on Mars\r\n",
      " 1 file changed, 2 insertions(+)\r\n",
      " create mode 100644 mars.txt\r\n"
     ]
    }
   ],
   "source": [
    "!git commit -m \"Some notes on Mars\" mars.txt"
   ]
  },
  {
   "cell_type": "markdown",
   "metadata": {},
   "source": [
    "To see the history of changes, we use the command:\n",
    "\n",
    "```bash\n",
    "git log\n",
    "```"
   ]
  },
  {
   "cell_type": "code",
   "execution_count": 12,
   "metadata": {},
   "outputs": [
    {
     "name": "stdout",
     "output_type": "stream",
     "text": [
      "\u001b[33mcommit 7caf13e974cae4d169ec4aa0fc5627ffddb3900d\u001b[m\r\n",
      "Author: francinemarleau <francine.marleau@gmail.com>\r\n",
      "Date:   Tue Oct 2 08:57:49 2018 +0200\r\n",
      "\r\n",
      "    Some notes on Mars\r\n"
     ]
    }
   ],
   "source": [
    "!git log"
   ]
  },
  {
   "cell_type": "markdown",
   "metadata": {},
   "source": [
    "## Commiting changes"
   ]
  },
  {
   "cell_type": "markdown",
   "metadata": {},
   "source": [
    "When files that is tracked by GIT are changed, they are listed as *modified* by `git status`:"
   ]
  },
  {
   "cell_type": "code",
   "execution_count": 13,
   "metadata": {},
   "outputs": [
    {
     "name": "stdout",
     "output_type": "stream",
     "text": [
      "Writing README\n"
     ]
    }
   ],
   "source": [
    "%%file README\n",
    "\n",
    "A file with information about the gitdemo repository.\n",
    "\n",
    "A new line."
   ]
  },
  {
   "cell_type": "code",
   "execution_count": 14,
   "metadata": {},
   "outputs": [
    {
     "name": "stdout",
     "output_type": "stream",
     "text": [
      "On branch master\r\n",
      "Untracked files:\r\n",
      "  (use \"git add <file>...\" to include in what will be committed)\r\n",
      "\r\n",
      "\t\u001b[31mREADME\u001b[m\r\n",
      "\r\n",
      "nothing added to commit but untracked files present (use \"git add\" to track)\r\n"
     ]
    }
   ],
   "source": [
    "!git status"
   ]
  },
  {
   "cell_type": "markdown",
   "metadata": {},
   "source": [
    "Again, we can commit such changes to the repository using the `git commit -m \"message\"` command."
   ]
  },
  {
   "cell_type": "code",
   "execution_count": 15,
   "metadata": {},
   "outputs": [
    {
     "name": "stdout",
     "output_type": "stream",
     "text": [
      "error: pathspec 'README' did not match any file(s) known to git.\r\n"
     ]
    }
   ],
   "source": [
    "!git commit -m \"added one more line in README\" README"
   ]
  },
  {
   "cell_type": "code",
   "execution_count": 16,
   "metadata": {},
   "outputs": [
    {
     "name": "stdout",
     "output_type": "stream",
     "text": [
      "On branch master\r\n",
      "Untracked files:\r\n",
      "  (use \"git add <file>...\" to include in what will be committed)\r\n",
      "\r\n",
      "\t\u001b[31mREADME\u001b[m\r\n",
      "\r\n",
      "nothing added to commit but untracked files present (use \"git add\" to track)\r\n"
     ]
    }
   ],
   "source": [
    "!git status"
   ]
  },
  {
   "cell_type": "markdown",
   "metadata": {},
   "source": [
    "## <font color='green'>Activity</font>\n",
    "\n",
    "Create a file called jupiter.txt, add it and commit."
   ]
  },
  {
   "cell_type": "markdown",
   "metadata": {},
   "source": [
    "## <font color='green'>Solution</font>\n"
   ]
  },
  {
   "cell_type": "code",
   "execution_count": 17,
   "metadata": {},
   "outputs": [
    {
     "name": "stdout",
     "output_type": "stream",
     "text": [
      "[master bbc1a04] added file with jupiter notes\n",
      " 1 file changed, 1 insertion(+)\n",
      " create mode 100644 jupiter.txt\n",
      "On branch master\n",
      "Untracked files:\n",
      "  (use \"git add <file>...\" to include in what will be committed)\n",
      "\n",
      "\tREADME\n",
      "\n",
      "nothing added to commit but untracked files present (use \"git add\" to track)\n"
     ]
    }
   ],
   "source": [
    "%%%bash\n",
    "echo \"Jupiter is the biggest planet in the solar system\" > jupiter.txt\n",
    "git add jupiter.txt\n",
    "git commit -m \"added file with jupiter notes\"\n",
    "git status"
   ]
  },
  {
   "cell_type": "markdown",
   "metadata": {},
   "source": [
    "## Removing files"
   ]
  },
  {
   "cell_type": "markdown",
   "metadata": {},
   "source": [
    "To remove file that has been added to the repository, use `git rm filename`, which works similar to `git add filename`:"
   ]
  },
  {
   "cell_type": "code",
   "execution_count": 18,
   "metadata": {},
   "outputs": [
    {
     "name": "stdout",
     "output_type": "stream",
     "text": [
      "Writing tmpfile\n"
     ]
    }
   ],
   "source": [
    "%%file tmpfile\n",
    "\n",
    "A short-lived file."
   ]
  },
  {
   "cell_type": "markdown",
   "metadata": {},
   "source": [
    "Add it:"
   ]
  },
  {
   "cell_type": "code",
   "execution_count": 19,
   "metadata": {},
   "outputs": [],
   "source": [
    "!git add tmpfile"
   ]
  },
  {
   "cell_type": "code",
   "execution_count": 20,
   "metadata": {},
   "outputs": [
    {
     "name": "stdout",
     "output_type": "stream",
     "text": [
      "[master e78d5e6] adding file tmpfile\r\n",
      " 1 file changed, 2 insertions(+)\r\n",
      " create mode 100644 tmpfile\r\n"
     ]
    }
   ],
   "source": [
    "!git commit -m \"adding file tmpfile\" tmpfile "
   ]
  },
  {
   "cell_type": "markdown",
   "metadata": {},
   "source": [
    "Remove it again:"
   ]
  },
  {
   "cell_type": "code",
   "execution_count": 21,
   "metadata": {},
   "outputs": [
    {
     "name": "stdout",
     "output_type": "stream",
     "text": [
      "rm 'tmpfile'\r\n"
     ]
    }
   ],
   "source": [
    "!git rm tmpfile"
   ]
  },
  {
   "cell_type": "code",
   "execution_count": 22,
   "metadata": {},
   "outputs": [
    {
     "name": "stdout",
     "output_type": "stream",
     "text": [
      "[master a64c623] remove file tmpfile\r\n",
      " 1 file changed, 2 deletions(-)\r\n",
      " delete mode 100644 tmpfile\r\n"
     ]
    }
   ],
   "source": [
    "!git commit -m \"remove file tmpfile\" tmpfile "
   ]
  },
  {
   "cell_type": "markdown",
   "metadata": {},
   "source": [
    "## Commit logs"
   ]
  },
  {
   "cell_type": "markdown",
   "metadata": {},
   "source": [
    "The messages that are added to the commit command are supposed to give a short (often one-line) description of the changes/additions/deletions in the commit. If the `-m \"message\"` is omitted when invoking the `git commit` message an editor will be opened for you to type a commit message (for example useful when a longer commit message is required). \n",
    "\n",
    "We can look at the revision log by using the command `git log`:"
   ]
  },
  {
   "cell_type": "code",
   "execution_count": 23,
   "metadata": {},
   "outputs": [
    {
     "name": "stdout",
     "output_type": "stream",
     "text": [
      "\u001b[33mcommit a64c623727dbd9c45284041954d4d15947f33d2a\u001b[m\r\n",
      "Author: francinemarleau <francine.marleau@gmail.com>\r\n",
      "Date:   Tue Oct 2 09:00:20 2018 +0200\r\n",
      "\r\n",
      "    remove file tmpfile\r\n",
      "\r\n",
      "\u001b[33mcommit e78d5e61ed639bdf78bcb5282f6b5e354728f395\u001b[m\r\n",
      "Author: francinemarleau <francine.marleau@gmail.com>\r\n",
      "Date:   Tue Oct 2 09:00:12 2018 +0200\r\n",
      "\r\n",
      "    adding file tmpfile\r\n",
      "\r\n",
      "\u001b[33mcommit bbc1a04b18d18b7abaf7cc9a0117ae84037ae59f\u001b[m\r\n",
      "Author: francinemarleau <francine.marleau@gmail.com>\r\n",
      "Date:   Tue Oct 2 08:59:40 2018 +0200\r\n",
      "\r\n",
      "    added file with jupiter notes\r\n",
      "\r\n",
      "\u001b[33mcommit 7caf13e974cae4d169ec4aa0fc5627ffddb3900d\u001b[m\r\n",
      "Author: francinemarleau <francine.marleau@gmail.com>\r\n",
      "Date:   Tue Oct 2 08:57:49 2018 +0200\r\n",
      "\r\n",
      "    Some notes on Mars\r\n"
     ]
    }
   ],
   "source": [
    "!git log"
   ]
  },
  {
   "cell_type": "markdown",
   "metadata": {},
   "source": [
    "In the commit log, each revision is shown with a timestampe, a unique has tag that, and author information and the commit message."
   ]
  },
  {
   "cell_type": "markdown",
   "metadata": {},
   "source": [
    "## Diffs"
   ]
  },
  {
   "cell_type": "markdown",
   "metadata": {},
   "source": [
    "All commits results in a changeset, which has a \"diff\" describing the changes to the file associated with it. We can use `git diff` so see what has changed in a file:"
   ]
  },
  {
   "cell_type": "code",
   "execution_count": 24,
   "metadata": {},
   "outputs": [
    {
     "name": "stdout",
     "output_type": "stream",
     "text": [
      "On branch master\n",
      "Changes not staged for commit:\n",
      "  (use \"git add <file>...\" to update what will be committed)\n",
      "  (use \"git checkout -- <file>...\" to discard changes in working directory)\n",
      "\n",
      "\tmodified:   mars.txt\n",
      "\n",
      "Untracked files:\n",
      "  (use \"git add <file>...\" to include in what will be committed)\n",
      "\n",
      "\tREADME\n",
      "\n",
      "no changes added to commit (use \"git add\" and/or \"git commit -a\")\n"
     ]
    }
   ],
   "source": [
    "%%%bash\n",
    "echo \"The color of this planet is red.\" >> mars.txt\n",
    "git status"
   ]
  },
  {
   "cell_type": "code",
   "execution_count": 25,
   "metadata": {},
   "outputs": [
    {
     "name": "stdout",
     "output_type": "stream",
     "text": [
      "\u001b[1mdiff --git a/mars.txt b/mars.txt\u001b[m\r\n",
      "\u001b[1mindex 6d5785f..703abba 100644\u001b[m\r\n",
      "\u001b[1m--- a/mars.txt\u001b[m\r\n",
      "\u001b[1m+++ b/mars.txt\u001b[m\r\n",
      "\u001b[36m@@ -1,2 +1,2 @@\u001b[m\r\n",
      " \u001b[m\r\n",
      "\u001b[31m-Mars is the 4th planet from the Sun\u001b[m\r\n",
      "\\ No newline at end of file\u001b[m\r\n",
      "\u001b[32m+\u001b[m\u001b[32mMars is the 4th planet from the SunThe color of this planet is red.\u001b[m\r\n"
     ]
    }
   ],
   "source": [
    "!git diff mars.txt"
   ]
  },
  {
   "cell_type": "code",
   "execution_count": 26,
   "metadata": {},
   "outputs": [
    {
     "name": "stdout",
     "output_type": "stream",
     "text": [
      "On branch master\r\n",
      "Changes not staged for commit:\r\n",
      "\t\u001b[31mmodified:   mars.txt\u001b[m\r\n",
      "\r\n",
      "Untracked files:\r\n",
      "\t\u001b[31mREADME\u001b[m\r\n",
      "\r\n",
      "no changes added to commit\r\n"
     ]
    }
   ],
   "source": [
    "!git commit -m \"new Mars info\" "
   ]
  },
  {
   "cell_type": "markdown",
   "metadata": {},
   "source": [
    "The error is: we have fist to add the filename in then commit"
   ]
  },
  {
   "cell_type": "code",
   "execution_count": 27,
   "metadata": {
    "collapsed": true
   },
   "outputs": [
    {
     "name": "stdout",
     "output_type": "stream",
     "text": [
      "[master f411071] new Mars info\n",
      " 1 file changed, 1 insertion(+), 1 deletion(-)\n",
      "On branch master\n",
      "Untracked files:\n",
      "  (use \"git add <file>...\" to include in what will be committed)\n",
      "\n",
      "\tREADME\n",
      "\n",
      "nothing added to commit but untracked files present (use \"git add\" to track)\n"
     ]
    }
   ],
   "source": [
    "%%%bash\n",
    "git add mars.txt\n",
    "git commit -m \"new Mars info\"\n",
    "git status"
   ]
  },
  {
   "cell_type": "markdown",
   "metadata": {},
   "source": [
    "That looks quite cryptic but is a standard form for describing changes in files. We can use other tools, like graphical user interfaces or web based systems to get a more easily understandable diff.\n",
    "\n",
    "Using the software gitk, the view is more clear:\n",
    "\n",
    "![title](img/gitk_marleau.png)"
   ]
  },
  {
   "cell_type": "markdown",
   "metadata": {},
   "source": [
    "To see the latest change or see the changes with as little information as possible, \n",
    "we can use the following commands:"
   ]
  },
  {
   "cell_type": "code",
   "execution_count": 28,
   "metadata": {},
   "outputs": [
    {
     "name": "stdout",
     "output_type": "stream",
     "text": [
      "commit f411071eae76183a556a90ff78760dea36f0e664\n",
      "Author: francinemarleau <francine.marleau@gmail.com>\n",
      "Date:   Tue Oct 2 09:06:36 2018 +0200\n",
      "\n",
      "    new Mars info\n",
      "\n",
      "f411071 new Mars info\n",
      "a64c623 remove file tmpfile\n",
      "e78d5e6 adding file tmpfile\n",
      "bbc1a04 added file with jupiter notes\n",
      "7caf13e Some notes on Mars\n"
     ]
    }
   ],
   "source": [
    "%%%bash\n",
    "git log -1  # last change\n",
    "echo \"\"\n",
    "git log --oneline # short output"
   ]
  },
  {
   "cell_type": "markdown",
   "metadata": {},
   "source": [
    "To visualize the latest changes (with diff), we can use the command:"
   ]
  },
  {
   "cell_type": "code",
   "execution_count": 29,
   "metadata": {},
   "outputs": [
    {
     "name": "stdout",
     "output_type": "stream",
     "text": [
      "\u001b[1mdiff --git a/mars.txt b/mars.txt\u001b[m\r\n",
      "\u001b[1mindex 6d5785f..703abba 100644\u001b[m\r\n",
      "\u001b[1m--- a/mars.txt\u001b[m\r\n",
      "\u001b[1m+++ b/mars.txt\u001b[m\r\n",
      "\u001b[36m@@ -1,2 +1,2 @@\u001b[m\r\n",
      " \u001b[m\r\n",
      "\u001b[31m-Mars is the 4th planet from the Sun\u001b[m\r\n",
      "\\ No newline at end of file\u001b[m\r\n",
      "\u001b[32m+\u001b[m\u001b[32mMars is the 4th planet from the SunThe color of this planet is red.\u001b[m\r\n"
     ]
    }
   ],
   "source": [
    "!git diff HEAD~1 mars.txt  # Difference with previous version of the file"
   ]
  },
  {
   "cell_type": "markdown",
   "metadata": {},
   "source": [
    "In particular we refer to the previous versions using HEAD, HEAD~1, HEAD~2:\n",
    "\n",
    "- HEAD    the latest committed change\n",
    "- HEAD~1  the previous committed change \n",
    "- HEAD~2  the change before the previous commit, and so on...\n",
    "\n",
    "So, if we add a new information to the mars file:"
   ]
  },
  {
   "cell_type": "code",
   "execution_count": 30,
   "metadata": {},
   "outputs": [
    {
     "name": "stdout",
     "output_type": "stream",
     "text": [
      "[master 89286d7] even more info about Mars\n",
      " 1 file changed, 1 insertion(+)\n",
      "On branch master\n",
      "Untracked files:\n",
      "  (use \"git add <file>...\" to include in what will be committed)\n",
      "\n",
      "\tREADME\n",
      "\n",
      "nothing added to commit but untracked files present (use \"git add\" to track)\n"
     ]
    }
   ],
   "source": [
    "%%%bash\n",
    "echo \"Mars has two nice moons.\" >> mars.txt\n",
    "git add mars.txt\n",
    "git commit -m \"even more info about Mars\"\n",
    "git status"
   ]
  },
  {
   "cell_type": "markdown",
   "metadata": {},
   "source": [
    "We can see the difference with respect to 2 versions ago:"
   ]
  },
  {
   "cell_type": "code",
   "execution_count": 31,
   "metadata": {},
   "outputs": [
    {
     "name": "stdout",
     "output_type": "stream",
     "text": [
      "\u001b[1mdiff --git a/mars.txt b/mars.txt\u001b[m\r\n",
      "\u001b[1mindex 6d5785f..a18699d 100644\u001b[m\r\n",
      "\u001b[1m--- a/mars.txt\u001b[m\r\n",
      "\u001b[1m+++ b/mars.txt\u001b[m\r\n",
      "\u001b[36m@@ -1,2 +1,3 @@\u001b[m\r\n",
      " \u001b[m\r\n",
      "\u001b[31m-Mars is the 4th planet from the Sun\u001b[m\r\n",
      "\\ No newline at end of file\u001b[m\r\n",
      "\u001b[32m+\u001b[m\u001b[32mMars is the 4th planet from the SunThe color of this planet is red.\u001b[m\r\n",
      "\u001b[32m+\u001b[m\u001b[32mMars has two nice moons.\u001b[m\r\n"
     ]
    }
   ],
   "source": [
    "!git diff HEAD~2 mars.txt "
   ]
  },
  {
   "cell_type": "markdown",
   "metadata": {},
   "source": [
    "## Discard changes in the working directory"
   ]
  },
  {
   "cell_type": "markdown",
   "metadata": {},
   "source": [
    "To discard a change (revert to the latest version in the repository) we can use the `checkout` command.\n",
    "\n",
    "So, let's do a change in the repository and go back to the last commit."
   ]
  },
  {
   "cell_type": "code",
   "execution_count": 32,
   "metadata": {},
   "outputs": [
    {
     "name": "stdout",
     "output_type": "stream",
     "text": [
      "\n",
      "Mars is the 4th planet from the SunThe color of this planet is red.\n",
      "Mars has two nice moons.\n",
      "Many space probes crashed on Mars.\n"
     ]
    }
   ],
   "source": [
    "%%%bash\n",
    "echo \"Many space probes crashed on Mars.\" >> mars.txt\n",
    "cat mars.txt"
   ]
  },
  {
   "cell_type": "code",
   "execution_count": 33,
   "metadata": {},
   "outputs": [
    {
     "name": "stdout",
     "output_type": "stream",
     "text": [
      "On branch master\n",
      "Untracked files:\n",
      "  (use \"git add <file>...\" to include in what will be committed)\n",
      "\n",
      "\tREADME\n",
      "\n",
      "nothing added to commit but untracked files present (use \"git add\" to track)\n",
      "\n",
      "Mars is the 4th planet from the SunThe color of this planet is red.\n",
      "Mars has two nice moons.\n"
     ]
    }
   ],
   "source": [
    "%%%bash\n",
    "git checkout HEAD mars.txt\n",
    "git status\n",
    "cat mars.txt"
   ]
  },
  {
   "cell_type": "markdown",
   "metadata": {},
   "source": [
    "## Checking out old revisions"
   ]
  },
  {
   "cell_type": "markdown",
   "metadata": {},
   "source": [
    "If we want to get the code for a specific revision, we can use \"git checkout\" and giving it the hash code for the revision we are interested as argument:"
   ]
  },
  {
   "cell_type": "code",
   "execution_count": 34,
   "metadata": {},
   "outputs": [
    {
     "name": "stdout",
     "output_type": "stream",
     "text": [
      "\u001b[33mcommit 89286d7c0ef38bf899b433a2deff3afbbe06cc48\u001b[m\r\n",
      "Author: francinemarleau <francine.marleau@gmail.com>\r\n",
      "Date:   Tue Oct 2 09:12:15 2018 +0200\r\n",
      "\r\n",
      "    even more info about Mars\r\n",
      "\r\n",
      "\u001b[33mcommit f411071eae76183a556a90ff78760dea36f0e664\u001b[m\r\n",
      "Author: francinemarleau <francine.marleau@gmail.com>\r\n",
      "Date:   Tue Oct 2 09:06:36 2018 +0200\r\n",
      "\r\n",
      "    new Mars info\r\n",
      "\r\n",
      "\u001b[33mcommit a64c623727dbd9c45284041954d4d15947f33d2a\u001b[m\r\n",
      "Author: francinemarleau <francine.marleau@gmail.com>\r\n",
      "Date:   Tue Oct 2 09:00:20 2018 +0200\r\n",
      "\r\n",
      "    remove file tmpfile\r\n",
      "\r\n",
      "\u001b[33mcommit e78d5e61ed639bdf78bcb5282f6b5e354728f395\u001b[m\r\n",
      "Author: francinemarleau <francine.marleau@gmail.com>\r\n",
      "Date:   Tue Oct 2 09:00:12 2018 +0200\r\n",
      "\r\n",
      "    adding file tmpfile\r\n",
      "\r\n",
      "\u001b[33mcommit bbc1a04b18d18b7abaf7cc9a0117ae84037ae59f\u001b[m\r\n",
      "Author: francinemarleau <francine.marleau@gmail.com>\r\n",
      "Date:   Tue Oct 2 08:59:40 2018 +0200\r\n",
      "\r\n",
      "    added file with jupiter notes\r\n",
      "\r\n",
      "\u001b[33mcommit 7caf13e974cae4d169ec4aa0fc5627ffddb3900d\u001b[m\r\n",
      "Author: francinemarleau <francine.marleau@gmail.com>\r\n",
      "Date:   Tue Oct 2 08:57:49 2018 +0200\r\n",
      "\r\n",
      "    Some notes on Mars\r\n"
     ]
    }
   ],
   "source": [
    "!git log"
   ]
  },
  {
   "cell_type": "code",
   "execution_count": 36,
   "metadata": {},
   "outputs": [
    {
     "name": "stdout",
     "output_type": "stream",
     "text": [
      "Note: checking out '89286d7c0ef38bf899b433a2deff3afbbe06cc48'.\r\n",
      "\r\n",
      "You are in 'detached HEAD' state. You can look around, make experimental\r\n",
      "changes and commit them, and you can discard any commits you make in this\r\n",
      "state without impacting any branches by performing another checkout.\r\n",
      "\r\n",
      "If you want to create a new branch to retain commits you create, you may\r\n",
      "do so (now or later) by using -b with the checkout command again. Example:\r\n",
      "\r\n",
      "  git checkout -b <new-branch-name>\r\n",
      "\r\n",
      "HEAD is now at 89286d7... even more info about Mars\r\n"
     ]
    }
   ],
   "source": [
    "!git checkout 89286d7c0ef38bf899b433a2deff3afbbe06cc48"
   ]
  },
  {
   "cell_type": "markdown",
   "metadata": {},
   "source": [
    "Now the content of all the files like in the revision with the hash code listed above (first revision)"
   ]
  },
  {
   "cell_type": "code",
   "execution_count": 37,
   "metadata": {},
   "outputs": [
    {
     "name": "stdout",
     "output_type": "stream",
     "text": [
      "\r\n",
      "Mars is the 4th planet from the SunThe color of this planet is red.\r\n",
      "Mars has two nice moons.\r\n"
     ]
    }
   ],
   "source": [
    "!cat mars.txt"
   ]
  },
  {
   "cell_type": "markdown",
   "metadata": {},
   "source": [
    "We can move back to \"the latest\" (master) with the command:"
   ]
  },
  {
   "cell_type": "code",
   "execution_count": 38,
   "metadata": {},
   "outputs": [
    {
     "name": "stdout",
     "output_type": "stream",
     "text": [
      "Switched to branch 'master'\r\n"
     ]
    }
   ],
   "source": [
    "!git checkout master "
   ]
  },
  {
   "cell_type": "code",
   "execution_count": 39,
   "metadata": {},
   "outputs": [
    {
     "name": "stdout",
     "output_type": "stream",
     "text": [
      "\r\n",
      "Mars is the 4th planet from the SunThe color of this planet is red.\r\n",
      "Mars has two nice moons.\r\n"
     ]
    }
   ],
   "source": [
    "!cat mars.txt"
   ]
  },
  {
   "cell_type": "code",
   "execution_count": 40,
   "metadata": {},
   "outputs": [
    {
     "name": "stdout",
     "output_type": "stream",
     "text": [
      "On branch master\r\n",
      "Untracked files:\r\n",
      "  (use \"git add <file>...\" to include in what will be committed)\r\n",
      "\r\n",
      "\t\u001b[31mREADME\u001b[m\r\n",
      "\r\n",
      "nothing added to commit but untracked files present (use \"git add\" to track)\r\n"
     ]
    }
   ],
   "source": [
    "!git status"
   ]
  },
  {
   "cell_type": "markdown",
   "metadata": {},
   "source": [
    "## Ignoring\n",
    "\n",
    "If we want to ignore files or directories created in our repository, we can\n",
    "list them in the `.gitignore` file.\n",
    "\n",
    "This is particularly useful when we compile codes or create temporary files we\n",
    "are not interested in saving. For instance, if we don't want to save the `results`\n",
    "directory or any file that ends in `.dat`, we can use the following strategy:"
   ]
  },
  {
   "cell_type": "code",
   "execution_count": 41,
   "metadata": {},
   "outputs": [
    {
     "name": "stdout",
     "output_type": "stream",
     "text": [
      "On branch master\n",
      "Untracked files:\n",
      "  (use \"git add <file>...\" to include in what will be committed)\n",
      "\n",
      "\tREADME\n",
      "\tresults/\n",
      "\n",
      "nothing added to commit but untracked files present (use \"git add\" to track)\n"
     ]
    }
   ],
   "source": [
    "%%%bash\n",
    "mkdir results\n",
    "touch results/a.out\n",
    "touch results/b.out\n",
    "git status"
   ]
  },
  {
   "cell_type": "code",
   "execution_count": 42,
   "metadata": {},
   "outputs": [
    {
     "name": "stdout",
     "output_type": "stream",
     "text": [
      "On branch master\n",
      "Untracked files:\n",
      "  (use \"git add <file>...\" to include in what will be committed)\n",
      "\n",
      "\t.gitignore\n",
      "\tREADME\n",
      "\n",
      "nothing added to commit but untracked files present (use \"git add\" to track)\n"
     ]
    }
   ],
   "source": [
    "%%%bash\n",
    "echo 'results/\n",
    "*.dat' > .gitignore\n",
    "git status"
   ]
  },
  {
   "cell_type": "code",
   "execution_count": 43,
   "metadata": {},
   "outputs": [
    {
     "name": "stdout",
     "output_type": "stream",
     "text": [
      "[master 730be07] Added gitignore file\n",
      " 1 file changed, 2 insertions(+)\n",
      " create mode 100644 .gitignore\n",
      "On branch master\n",
      "Untracked files:\n",
      "  (use \"git add <file>...\" to include in what will be committed)\n",
      "\n",
      "\tREADME\n",
      "\n",
      "nothing added to commit but untracked files present (use \"git add\" to track)\n"
     ]
    }
   ],
   "source": [
    "%%%bash\n",
    "git add .gitignore\n",
    "git commit -m \"Added gitignore file\"\n",
    "git status"
   ]
  },
  {
   "cell_type": "markdown",
   "metadata": {},
   "source": [
    "## <font color='green'>Activity</font>\n",
    "Overwrite and recover jupiter.txt"
   ]
  },
  {
   "cell_type": "markdown",
   "metadata": {},
   "source": [
    "## <font color='green'>Solution</font>"
   ]
  },
  {
   "cell_type": "code",
   "execution_count": 44,
   "metadata": {},
   "outputs": [
    {
     "name": "stdout",
     "output_type": "stream",
     "text": [
      "On branch master\n",
      "Changes not staged for commit:\n",
      "  (use \"git add <file>...\" to update what will be committed)\n",
      "  (use \"git checkout -- <file>...\" to discard changes in working directory)\n",
      "\n",
      "\tmodified:   jupiter.txt\n",
      "\n",
      "Untracked files:\n",
      "  (use \"git add <file>...\" to include in what will be committed)\n",
      "\n",
      "\tREADME\n",
      "\n",
      "no changes added to commit (use \"git add\" and/or \"git commit -a\")\n",
      "nothing\n"
     ]
    }
   ],
   "source": [
    "%%%bash\n",
    "echo \"nothing\" > jupiter.txt\n",
    "git status\n",
    "cat jupiter.txt"
   ]
  },
  {
   "cell_type": "code",
   "execution_count": 45,
   "metadata": {},
   "outputs": [
    {
     "name": "stdout",
     "output_type": "stream",
     "text": [
      "Jupiter is the biggest planet in the solar system\n"
     ]
    }
   ],
   "source": [
    "%%%bash\n",
    "git checkout HEAD jupiter.txt\n",
    "cat jupiter.txt"
   ]
  },
  {
   "cell_type": "markdown",
   "metadata": {},
   "source": [
    "## Tagging and branching"
   ]
  },
  {
   "cell_type": "markdown",
   "metadata": {},
   "source": [
    "### Tags"
   ]
  },
  {
   "cell_type": "markdown",
   "metadata": {},
   "source": [
    "Tags are named revisions. They are useful for marking particular revisions for later references. For example, we can tag our code with the tag \"paper-1-final\" when simulations for \"paper-1\" are finished and the paper submitted. Then we can always retrieve the exactly the code used for that paper even if we continue to work on and develop the code for future projects and papers."
   ]
  },
  {
   "cell_type": "code",
   "execution_count": 46,
   "metadata": {},
   "outputs": [
    {
     "name": "stdout",
     "output_type": "stream",
     "text": [
      "\u001b[33mcommit 730be0745dde79385b7057cc07e669ae75a4a125\u001b[m\r\n",
      "Author: francinemarleau <francine.marleau@gmail.com>\r\n",
      "Date:   Tue Oct 2 09:26:40 2018 +0200\r\n",
      "\r\n",
      "    Added gitignore file\r\n",
      "\r\n",
      "\u001b[33mcommit 89286d7c0ef38bf899b433a2deff3afbbe06cc48\u001b[m\r\n",
      "Author: francinemarleau <francine.marleau@gmail.com>\r\n",
      "Date:   Tue Oct 2 09:12:15 2018 +0200\r\n",
      "\r\n",
      "    even more info about Mars\r\n",
      "\r\n",
      "\u001b[33mcommit f411071eae76183a556a90ff78760dea36f0e664\u001b[m\r\n",
      "Author: francinemarleau <francine.marleau@gmail.com>\r\n",
      "Date:   Tue Oct 2 09:06:36 2018 +0200\r\n",
      "\r\n",
      "    new Mars info\r\n",
      "\r\n",
      "\u001b[33mcommit a64c623727dbd9c45284041954d4d15947f33d2a\u001b[m\r\n",
      "Author: francinemarleau <francine.marleau@gmail.com>\r\n",
      "Date:   Tue Oct 2 09:00:20 2018 +0200\r\n",
      "\r\n",
      "    remove file tmpfile\r\n",
      "\r\n",
      "\u001b[33mcommit e78d5e61ed639bdf78bcb5282f6b5e354728f395\u001b[m\r\n",
      "Author: francinemarleau <francine.marleau@gmail.com>\r\n",
      "Date:   Tue Oct 2 09:00:12 2018 +0200\r\n",
      "\r\n",
      "    adding file tmpfile\r\n",
      "\r\n",
      "\u001b[33mcommit bbc1a04b18d18b7abaf7cc9a0117ae84037ae59f\u001b[m\r\n",
      "Author: francinemarleau <francine.marleau@gmail.com>\r\n",
      "Date:   Tue Oct 2 08:59:40 2018 +0200\r\n",
      "\r\n",
      "    added file with jupiter notes\r\n",
      "\r\n",
      "\u001b[33mcommit 7caf13e974cae4d169ec4aa0fc5627ffddb3900d\u001b[m\r\n",
      "Author: francinemarleau <francine.marleau@gmail.com>\r\n",
      "Date:   Tue Oct 2 08:57:49 2018 +0200\r\n",
      "\r\n",
      "    Some notes on Mars\r\n"
     ]
    }
   ],
   "source": [
    "!git log"
   ]
  },
  {
   "cell_type": "code",
   "execution_count": 47,
   "metadata": {},
   "outputs": [],
   "source": [
    "!git tag -a demotag1 -m \"pre-release\" "
   ]
  },
  {
   "cell_type": "code",
   "execution_count": 48,
   "metadata": {},
   "outputs": [
    {
     "name": "stdout",
     "output_type": "stream",
     "text": [
      "demotag1\r\n"
     ]
    }
   ],
   "source": [
    "!git tag -l "
   ]
  },
  {
   "cell_type": "code",
   "execution_count": 49,
   "metadata": {},
   "outputs": [
    {
     "name": "stdout",
     "output_type": "stream",
     "text": [
      "\u001b[33mtag demotag1\u001b[m\r\n",
      "Tagger: francinemarleau <francine.marleau@gmail.com>\r\n",
      "Date:   Tue Oct 2 09:30:31 2018 +0200\r\n",
      "\r\n",
      "pre-release\r\n",
      "\r\n",
      "\u001b[33mcommit 730be0745dde79385b7057cc07e669ae75a4a125\u001b[m\r\n",
      "Author: francinemarleau <francine.marleau@gmail.com>\r\n",
      "Date:   Tue Oct 2 09:26:40 2018 +0200\r\n",
      "\r\n",
      "    Added gitignore file\r\n",
      "\r\n",
      "\u001b[1mdiff --git a/.gitignore b/.gitignore\u001b[m\r\n",
      "\u001b[1mnew file mode 100644\u001b[m\r\n",
      "\u001b[1mindex 0000000..1e5b6df\u001b[m\r\n",
      "\u001b[1m--- /dev/null\u001b[m\r\n",
      "\u001b[1m+++ b/.gitignore\u001b[m\r\n",
      "\u001b[36m@@ -0,0 +1,2 @@\u001b[m\r\n",
      "\u001b[32m+\u001b[m\u001b[32mresults/\u001b[m\r\n",
      "\u001b[32m+\u001b[m\u001b[32m*.dat\u001b[m\r\n"
     ]
    }
   ],
   "source": [
    "!git show demotag1"
   ]
  },
  {
   "cell_type": "markdown",
   "metadata": {},
   "source": [
    "To retrieve the code in the state corresponding to a particular tag, we can use the:\n",
    "\n",
    "```bash\n",
    "git checkout tagname\n",
    "``` \n",
    "\n",
    "command."
   ]
  },
  {
   "cell_type": "code",
   "execution_count": 50,
   "metadata": {},
   "outputs": [
    {
     "name": "stdout",
     "output_type": "stream",
     "text": [
      "Note: checking out 'demotag1'.\r\n",
      "\r\n",
      "You are in 'detached HEAD' state. You can look around, make experimental\r\n",
      "changes and commit them, and you can discard any commits you make in this\r\n",
      "state without impacting any branches by performing another checkout.\r\n",
      "\r\n",
      "If you want to create a new branch to retain commits you create, you may\r\n",
      "do so (now or later) by using -b with the checkout command again. Example:\r\n",
      "\r\n",
      "  git checkout -b <new-branch-name>\r\n",
      "\r\n",
      "HEAD is now at 730be07... Added gitignore file\r\n"
     ]
    }
   ],
   "source": [
    "!git checkout demotag1"
   ]
  },
  {
   "cell_type": "markdown",
   "metadata": {},
   "source": [
    "Let's go back to our master branch."
   ]
  },
  {
   "cell_type": "code",
   "execution_count": 51,
   "metadata": {},
   "outputs": [
    {
     "name": "stdout",
     "output_type": "stream",
     "text": [
      "Switched to branch 'master'\r\n"
     ]
    }
   ],
   "source": [
    "!git checkout master "
   ]
  },
  {
   "cell_type": "markdown",
   "metadata": {},
   "source": [
    "## Branches"
   ]
  },
  {
   "cell_type": "markdown",
   "metadata": {},
   "source": [
    "With branches we can create diverging code bases in the same repository. They are for example useful for experimental development that requires a lot of code changes that could break the functionality in the master branch. Once the development of a branch has reached a stable state it can always be merged back into the trunk. Branching-development-merging is a good development strategy when serveral people are involved in working on the same code base. But even in single author repositories it can often be useful to always keep the master branch in a working state, and always branch/fork before implementing a new feature, and later merge it back into the main trunk.\n",
    "\n",
    "In GIT, we can create a new branch like this:"
   ]
  },
  {
   "cell_type": "code",
   "execution_count": 52,
   "metadata": {},
   "outputs": [],
   "source": [
    "!git branch expr1 "
   ]
  },
  {
   "cell_type": "markdown",
   "metadata": {},
   "source": [
    "We can list the existing branches like this:"
   ]
  },
  {
   "cell_type": "code",
   "execution_count": 53,
   "metadata": {},
   "outputs": [
    {
     "name": "stdout",
     "output_type": "stream",
     "text": [
      "  expr1\u001b[m\r\n",
      "* \u001b[32mmaster\u001b[m\r\n"
     ]
    }
   ],
   "source": [
    "!git branch"
   ]
  },
  {
   "cell_type": "markdown",
   "metadata": {},
   "source": [
    "And we can switch between branches using `checkout`:"
   ]
  },
  {
   "cell_type": "code",
   "execution_count": 54,
   "metadata": {},
   "outputs": [
    {
     "name": "stdout",
     "output_type": "stream",
     "text": [
      "Switched to branch 'expr1'\r\n"
     ]
    }
   ],
   "source": [
    "!git checkout expr1"
   ]
  },
  {
   "cell_type": "markdown",
   "metadata": {},
   "source": [
    "Make a change in the new branch."
   ]
  },
  {
   "cell_type": "code",
   "execution_count": 55,
   "metadata": {},
   "outputs": [
    {
     "name": "stdout",
     "output_type": "stream",
     "text": [
      "Overwriting jupiter.txt\n"
     ]
    }
   ],
   "source": [
    "%%file jupiter.txt\n",
    "\n",
    "Jupiter is the biggest planet in the solar system\n",
    "It is considered a failed star.\n"
   ]
  },
  {
   "cell_type": "code",
   "execution_count": 56,
   "metadata": {},
   "outputs": [
    {
     "name": "stdout",
     "output_type": "stream",
     "text": [
      "[expr1 a03e283] added a line in expr1 branch\r\n",
      " 1 file changed, 2 insertions(+)\r\n"
     ]
    }
   ],
   "source": [
    "!git commit -m \"added a line in expr1 branch\" jupiter.txt"
   ]
  },
  {
   "cell_type": "code",
   "execution_count": 57,
   "metadata": {},
   "outputs": [
    {
     "name": "stdout",
     "output_type": "stream",
     "text": [
      "* \u001b[32mexpr1\u001b[m\r\n",
      "  master\u001b[m\r\n"
     ]
    }
   ],
   "source": [
    "!git branch"
   ]
  },
  {
   "cell_type": "code",
   "execution_count": 58,
   "metadata": {},
   "outputs": [
    {
     "name": "stdout",
     "output_type": "stream",
     "text": [
      "\r\n",
      "Jupiter is the biggest planet in the solar system\r\n",
      "It is considered a failed star."
     ]
    }
   ],
   "source": [
    "!cat jupiter.txt"
   ]
  },
  {
   "cell_type": "code",
   "execution_count": 59,
   "metadata": {},
   "outputs": [
    {
     "name": "stdout",
     "output_type": "stream",
     "text": [
      "Switched to branch 'master'\r\n"
     ]
    }
   ],
   "source": [
    "!git checkout master"
   ]
  },
  {
   "cell_type": "code",
   "execution_count": 60,
   "metadata": {},
   "outputs": [
    {
     "name": "stdout",
     "output_type": "stream",
     "text": [
      "Jupiter is the biggest planet in the solar system\r\n"
     ]
    }
   ],
   "source": [
    "!cat jupiter.txt"
   ]
  },
  {
   "cell_type": "code",
   "execution_count": 61,
   "metadata": {},
   "outputs": [
    {
     "name": "stdout",
     "output_type": "stream",
     "text": [
      "  expr1\u001b[m\r\n",
      "* \u001b[32mmaster\u001b[m\r\n"
     ]
    }
   ],
   "source": [
    "!git branch"
   ]
  },
  {
   "cell_type": "markdown",
   "metadata": {},
   "source": [
    "We can merge an existing branch and all its changesets into another branch (for example the master branch) like this:\n",
    "\n",
    "First change to the target branch:"
   ]
  },
  {
   "cell_type": "code",
   "execution_count": 62,
   "metadata": {},
   "outputs": [
    {
     "name": "stdout",
     "output_type": "stream",
     "text": [
      "Already on 'master'\r\n"
     ]
    }
   ],
   "source": [
    "!git checkout master"
   ]
  },
  {
   "cell_type": "code",
   "execution_count": 63,
   "metadata": {},
   "outputs": [
    {
     "name": "stdout",
     "output_type": "stream",
     "text": [
      "Updating 730be07..a03e283\r\n",
      "Fast-forward\r\n",
      " jupiter.txt | 2 \u001b[32m++\u001b[m\r\n",
      " 1 file changed, 2 insertions(+)\r\n"
     ]
    }
   ],
   "source": [
    "!git merge expr1"
   ]
  },
  {
   "cell_type": "code",
   "execution_count": 64,
   "metadata": {},
   "outputs": [
    {
     "name": "stdout",
     "output_type": "stream",
     "text": [
      "  expr1\u001b[m\r\n",
      "* \u001b[32mmaster\u001b[m\r\n"
     ]
    }
   ],
   "source": [
    "!git branch "
   ]
  },
  {
   "cell_type": "code",
   "execution_count": 65,
   "metadata": {},
   "outputs": [
    {
     "name": "stdout",
     "output_type": "stream",
     "text": [
      "\r\n",
      "Jupiter is the biggest planet in the solar system\r\n",
      "It is considered a failed star."
     ]
    }
   ],
   "source": [
    "!cat jupiter.txt"
   ]
  },
  {
   "cell_type": "markdown",
   "metadata": {},
   "source": [
    "We can delete the branch `expr1` now that it has been merged into the master:"
   ]
  },
  {
   "cell_type": "code",
   "execution_count": 66,
   "metadata": {},
   "outputs": [
    {
     "name": "stdout",
     "output_type": "stream",
     "text": [
      "Deleted branch expr1 (was a03e283).\r\n"
     ]
    }
   ],
   "source": [
    "!git branch -d expr1"
   ]
  },
  {
   "cell_type": "code",
   "execution_count": 67,
   "metadata": {},
   "outputs": [
    {
     "name": "stdout",
     "output_type": "stream",
     "text": [
      "* \u001b[32mmaster\u001b[m\r\n"
     ]
    }
   ],
   "source": [
    "!git branch"
   ]
  },
  {
   "cell_type": "code",
   "execution_count": 68,
   "metadata": {},
   "outputs": [
    {
     "name": "stdout",
     "output_type": "stream",
     "text": [
      "\r\n",
      "Jupiter is the biggest planet in the solar system\r\n",
      "It is considered a failed star."
     ]
    }
   ],
   "source": [
    "!cat jupiter.txt"
   ]
  },
  {
   "cell_type": "markdown",
   "metadata": {},
   "source": [
    "# Remote repositories\n",
    "\n",
    "In our case, we need to sign up for an account on http://github.com\n",
    "\n",
    "Once entered in your account, you can create your first repository with the\n",
    "name of the directory containing your project. In this case: planets.\n",
    "\n",
    "Since our repository already exists, we can simply link it and push to master.\n",
    "**The second step has to be done interactively, since it asks for username and password.**\n"
   ]
  },
  {
   "cell_type": "markdown",
   "metadata": {},
   "source": [
    "## Creating a new repository\n",
    "\n",
    "To create a new repository in github, we will press the button **new repository** in\n",
    "the opening page:\n",
    "\n",
    "![title](img/nr_marleau.png)"
   ]
  },
  {
   "cell_type": "markdown",
   "metadata": {},
   "source": [
    "At this point, write the name of the repository in the next page:\n",
    "\n",
    "![title](img/nr2_marleau.png)"
   ]
  },
  {
   "cell_type": "markdown",
   "metadata": {},
   "source": [
    "After clicking \"Create repository\", we are lead in a third page which contains the URL of our repository:\n",
    "![title](img/nr3_marleau.png)"
   ]
  },
  {
   "cell_type": "markdown",
   "metadata": {},
   "source": [
    "## pulling and pushing changesets between repositories"
   ]
  },
  {
   "cell_type": "markdown",
   "metadata": {},
   "source": [
    "Once the repository is created we will have to link our local repository to the remote one and push it to the remote repository.\n",
    "We will label the URL as `origin`."
   ]
  },
  {
   "cell_type": "code",
   "execution_count": 69,
   "metadata": {},
   "outputs": [],
   "source": [
    "!git remote add origin https://github.com/francinemarleau/planets.git"
   ]
  },
  {
   "cell_type": "markdown",
   "metadata": {},
   "source": [
    "Then, we will push everything to the remote repository.\n",
    "This operation has to be done interactively, since it requires typing username and password:\n",
    "\n",
    "```bash\n",
    "git push -u origin master\n",
    "```\n",
    "\n",
    "```bash\n",
    "Username for 'https://github.com': francinemarleau\n",
    "Password for 'https://francinemarleau@github.com': \n",
    "Counting objects: 22, done.\n",
    "Delta compression using up to 4 threads.\n",
    "Compressing objects: 100% (18/18), done.\n",
    "Writing objects: 100% (22/22), 2.08 KiB | 0 bytes/s, done.\n",
    "Total 22 (delta 3), reused 0 (delta 0)\n",
    "remote: Resolving deltas: 100% (3/3), done.\n",
    "remote: \n",
    "remote: Create a pull request for 'master' on GitHub by visiting:\n",
    "remote:      https://github.com/francinemarleau/planets/pull/new/master\n",
    "remote: \n",
    "To https://github.com/francinemarleau/planets.git\n",
    " * [new branch]      master -> master\n",
    "Branch master set up to track remote branch master from origin.\n",
    "```\n"
   ]
  },
  {
   "cell_type": "markdown",
   "metadata": {},
   "source": [
    "To check the address of the parent repository, labelled origin:"
   ]
  },
  {
   "cell_type": "code",
   "execution_count": 70,
   "metadata": {},
   "outputs": [
    {
     "name": "stdout",
     "output_type": "stream",
     "text": [
      "origin\thttps://github.com/francinemarleau/planets.git (fetch)\r\n",
      "origin\thttps://github.com/francinemarleau/planets.git (push)\r\n"
     ]
    }
   ],
   "source": [
    "!git remote -v"
   ]
  },
  {
   "cell_type": "code",
   "execution_count": 71,
   "metadata": {},
   "outputs": [
    {
     "name": "stdout",
     "output_type": "stream",
     "text": [
      "* remote origin\r\n",
      "  Fetch URL: https://github.com/francinemarleau/planets.git\r\n",
      "  Push  URL: https://github.com/francinemarleau/planets.git\r\n",
      "  HEAD branch: master\r\n",
      "  Remote branch:\r\n",
      "    master tracked\r\n",
      "  Local branch configured for 'git pull':\r\n",
      "    master merges with remote master\r\n",
      "  Local ref configured for 'git push':\r\n",
      "    master pushes to master (up to date)\r\n"
     ]
    }
   ],
   "source": [
    "!git remote show origin"
   ]
  },
  {
   "cell_type": "markdown",
   "metadata": {},
   "source": [
    "### pull"
   ]
  },
  {
   "cell_type": "markdown",
   "metadata": {},
   "source": [
    "We can retrieve updates from the origin repository by \"pulling\" changesets from \"origin\" to our repository:"
   ]
  },
  {
   "cell_type": "code",
   "execution_count": 72,
   "metadata": {},
   "outputs": [
    {
     "name": "stdout",
     "output_type": "stream",
     "text": [
      "Already up-to-date.\r\n"
     ]
    }
   ],
   "source": [
    "!git pull origin"
   ]
  },
  {
   "cell_type": "markdown",
   "metadata": {},
   "source": [
    "We can register addresses to many different repositories, and pull in different changesets from different sources, but the default source is the origin from where the repository was first cloned (and the work origin could have been omitted from the line above)."
   ]
  },
  {
   "cell_type": "markdown",
   "metadata": {},
   "source": [
    "### push"
   ]
  },
  {
   "cell_type": "markdown",
   "metadata": {},
   "source": [
    "After making changes to our local repository, we can push changes to a remote repository using `git push`. Again, the default target repository is `origin`, so we can do:"
   ]
  },
  {
   "cell_type": "code",
   "execution_count": 73,
   "metadata": {},
   "outputs": [
    {
     "name": "stdout",
     "output_type": "stream",
     "text": [
      "On branch master\r\n",
      "Your branch is up-to-date with 'origin/master'.\r\n",
      "Untracked files:\r\n",
      "  (use \"git add <file>...\" to include in what will be committed)\r\n",
      "\r\n",
      "\t\u001b[31mREADME\u001b[m\r\n",
      "\r\n",
      "nothing added to commit but untracked files present (use \"git add\" to track)\r\n"
     ]
    }
   ],
   "source": [
    "!git status"
   ]
  },
  {
   "cell_type": "code",
   "execution_count": 74,
   "metadata": {},
   "outputs": [],
   "source": [
    "%%%bash\n",
    "echo 'A few notes about planets' > README"
   ]
  },
  {
   "cell_type": "code",
   "execution_count": 75,
   "metadata": {},
   "outputs": [],
   "source": [
    "!git add README"
   ]
  },
  {
   "cell_type": "code",
   "execution_count": 76,
   "metadata": {},
   "outputs": [
    {
     "name": "stdout",
     "output_type": "stream",
     "text": [
      "[master 2b427eb] added README\r\n",
      " 1 file changed, 1 insertion(+)\r\n",
      " create mode 100644 README\r\n"
     ]
    }
   ],
   "source": [
    "!git commit -m \"added README\" README"
   ]
  },
  {
   "cell_type": "markdown",
   "metadata": {},
   "source": [
    "At this point, we can push again the update to the remote repository:\n",
    "\n",
    "```bash\n",
    "git push origin master \n",
    "```\n"
   ]
  },
  {
   "cell_type": "markdown",
   "metadata": {},
   "source": [
    "## Delete a remote repository\n",
    "\n",
    "By far the easiest way is to log in your gitHub account:\n",
    "\n",
    "-  Click to your repository: https://github.com/yourUsername/yourRepository,\n",
    "   for example:\n",
    "   \n",
    "```bash\n",
    "    https://github.com/francinemarleau/planets\n",
    "```\n",
    "\n",
    "\n",
    "\n",
    "- Then in the main toolbar of github click on Settings, or directly type the URL:\n",
    " \n",
    "```bash\n",
    "  https://github.com/francinemarleau/planets/settings\n",
    "```\n",
    "\n",
    "- Scroll down and you will find **Delete this repository** button.\n"
   ]
  },
  {
   "cell_type": "markdown",
   "metadata": {},
   "source": [
    "## Hosted repositories"
   ]
  },
  {
   "cell_type": "markdown",
   "metadata": {},
   "source": [
    "Github.com is a git repository hosting site that is very popular with both open source projects (for which it is free) and private repositories (for which a subscription might be needed).\n",
    "\n",
    "With a hosted repository it easy to collaborate with colleagues on the same code base, and you get a graphical user interface where you can browse the code and look at commit logs, track issues etc. \n",
    "\n",
    "Some good hosted repositories are\n",
    "\n",
    "* Github : http://www.github.com\n",
    "* Bitbucket: http://www.bitbucket.org"
   ]
  },
  {
   "cell_type": "markdown",
   "metadata": {},
   "source": [
    "## Graphical user interfaces"
   ]
  },
  {
   "cell_type": "markdown",
   "metadata": {},
   "source": [
    "There are also a number of graphical users interfaces for GIT. The available options vary a little bit from platform to platform:\n",
    "\n",
    "http://git-scm.com/downloads/guis\n",
    "\n",
    "gitk is a popular browser for GIT\n",
    "\n",
    "git-gui is a tool to use GIT in a graphical way\n",
    "\n",
    "They can be easily installed in linux with apt-get or synaptic.\n",
    "\n",
    "Type: \"gitk\" \n",
    "Under \"File\", click: \"Start git gui\"\n",
    "\n",
    "![title](img/gitk2_marleau.png)"
   ]
  },
  {
   "cell_type": "markdown",
   "metadata": {},
   "source": [
    "## Further reading"
   ]
  },
  {
   "cell_type": "markdown",
   "metadata": {},
   "source": [
    "* http://git-scm.com/book\n",
    "* http://www.vogella.com/articles/Git/article.html\n",
    "* http://cheat.errtheblog.com/s/git"
   ]
  },
  {
   "cell_type": "code",
   "execution_count": 78,
   "metadata": {},
   "outputs": [],
   "source": [
    "#%load_ext version_information\n",
    "#%version_information  version_information"
   ]
  },
  {
   "cell_type": "code",
   "execution_count": null,
   "metadata": {},
   "outputs": [],
   "source": []
  }
 ],
 "metadata": {
  "anaconda-cloud": {},
  "kernelspec": {
   "display_name": "Python 3",
   "language": "python",
   "name": "python3"
  },
  "language_info": {
   "codemirror_mode": {
    "name": "ipython",
    "version": 3
   },
   "file_extension": ".py",
   "mimetype": "text/x-python",
   "name": "python",
   "nbconvert_exporter": "python",
   "pygments_lexer": "ipython3",
   "version": "3.6.5"
  }
 },
 "nbformat": 4,
 "nbformat_minor": 1
}
